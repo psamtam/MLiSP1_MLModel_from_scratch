{
 "cells": [
  {
   "cell_type": "markdown",
   "metadata": {},
   "source": [
    "### Import"
   ]
  },
  {
   "cell_type": "code",
   "execution_count": 1,
   "metadata": {},
   "outputs": [],
   "source": [
    "import numpy as np\n",
    "import pandas as pd"
   ]
  },
  {
   "cell_type": "markdown",
   "metadata": {},
   "source": [
    "### Fetch the data from the Internet and save it as csv\n",
    "The following cell only needs to run once. "
   ]
  },
  {
   "cell_type": "code",
   "execution_count": 2,
   "metadata": {},
   "outputs": [],
   "source": [
    "# from ucimlrepo import fetch_ucirepo \n",
    "\n",
    "# # fetch dataset \n",
    "# breast_cancer_wisconsin_original = fetch_ucirepo(id=15) \n",
    "  \n",
    "# # data (as pandas dataframes) \n",
    "# X = breast_cancer_wisconsin_original.data.features \n",
    "# y = breast_cancer_wisconsin_original.data.targets \n",
    "\n",
    "# data = pd.concat([y, X], axis=1)\n",
    "# data.to_csv(\"data.csv\", index=False)"
   ]
  },
  {
   "cell_type": "markdown",
   "metadata": {},
   "source": [
    "### Read the data to X and y, and replace B and M (2&4) with 0 and 1"
   ]
  },
  {
   "cell_type": "markdown",
   "metadata": {},
   "source": [
    "Note that there are missing values. As we got a large dataset, we will just drop the records."
   ]
  },
  {
   "cell_type": "code",
   "execution_count": 2,
   "metadata": {},
   "outputs": [
    {
     "name": "stdout",
     "output_type": "stream",
     "text": [
      "(683, 9) (683,)\n"
     ]
    }
   ],
   "source": [
    "data = pd.read_csv(\"data.csv\")\n",
    "data.dropna(inplace=True)\n",
    "X = data.drop(\"Class\", axis=1)\n",
    "y = data['Class']\n",
    "y.replace({2: 0, 4: 1}, inplace=True)\n",
    "print(X.shape, y.shape)"
   ]
  },
  {
   "cell_type": "code",
   "execution_count": 3,
   "metadata": {},
   "outputs": [],
   "source": [
    "%load_ext tensorboard"
   ]
  },
  {
   "cell_type": "code",
   "execution_count": 11,
   "metadata": {},
   "outputs": [
    {
     "name": "stdout",
     "output_type": "stream",
     "text": [
      "Epoch 1/100\n",
      "18/18 [==============================] - 1s 13ms/step - loss: 0.8241 - accuracy: 0.3407 - val_loss: 0.7528 - val_accuracy: 0.3869\n",
      "Epoch 2/100\n",
      "18/18 [==============================] - 0s 4ms/step - loss: 0.7273 - accuracy: 0.3388 - val_loss: 0.6893 - val_accuracy: 0.3358\n",
      "Epoch 3/100\n",
      "18/18 [==============================] - 0s 4ms/step - loss: 0.6608 - accuracy: 0.7234 - val_loss: 0.6536 - val_accuracy: 0.7737\n",
      "Epoch 4/100\n",
      "18/18 [==============================] - 0s 4ms/step - loss: 0.6197 - accuracy: 0.8571 - val_loss: 0.6269 - val_accuracy: 0.7372\n",
      "Epoch 5/100\n",
      "18/18 [==============================] - 0s 4ms/step - loss: 0.5874 - accuracy: 0.7546 - val_loss: 0.6020 - val_accuracy: 0.6642\n",
      "Epoch 6/100\n",
      "18/18 [==============================] - 0s 4ms/step - loss: 0.5597 - accuracy: 0.7399 - val_loss: 0.5777 - val_accuracy: 0.7007\n",
      "Epoch 7/100\n",
      "18/18 [==============================] - 0s 4ms/step - loss: 0.5352 - accuracy: 0.7546 - val_loss: 0.5573 - val_accuracy: 0.7080\n",
      "Epoch 8/100\n",
      "18/18 [==============================] - 0s 4ms/step - loss: 0.5141 - accuracy: 0.7601 - val_loss: 0.5386 - val_accuracy: 0.7153\n",
      "Epoch 9/100\n",
      "18/18 [==============================] - 0s 4ms/step - loss: 0.4928 - accuracy: 0.8040 - val_loss: 0.5150 - val_accuracy: 0.7956\n",
      "Epoch 10/100\n",
      "18/18 [==============================] - 0s 4ms/step - loss: 0.4714 - accuracy: 0.8315 - val_loss: 0.4949 - val_accuracy: 0.8175\n",
      "Epoch 11/100\n",
      "18/18 [==============================] - 0s 4ms/step - loss: 0.4504 - accuracy: 0.8901 - val_loss: 0.4699 - val_accuracy: 0.8394\n",
      "Epoch 12/100\n",
      "18/18 [==============================] - 0s 4ms/step - loss: 0.4284 - accuracy: 0.9084 - val_loss: 0.4476 - val_accuracy: 0.8686\n",
      "Epoch 13/100\n",
      "18/18 [==============================] - 0s 4ms/step - loss: 0.4063 - accuracy: 0.9249 - val_loss: 0.4257 - val_accuracy: 0.8978\n",
      "Epoch 14/100\n",
      "18/18 [==============================] - 0s 4ms/step - loss: 0.3851 - accuracy: 0.9304 - val_loss: 0.4075 - val_accuracy: 0.8905\n",
      "Epoch 15/100\n",
      "18/18 [==============================] - 0s 4ms/step - loss: 0.3645 - accuracy: 0.9322 - val_loss: 0.3859 - val_accuracy: 0.9051\n",
      "Epoch 16/100\n",
      "18/18 [==============================] - 0s 4ms/step - loss: 0.3444 - accuracy: 0.9414 - val_loss: 0.3642 - val_accuracy: 0.9270\n",
      "Epoch 17/100\n",
      "18/18 [==============================] - 0s 4ms/step - loss: 0.3257 - accuracy: 0.9414 - val_loss: 0.3447 - val_accuracy: 0.9197\n",
      "Epoch 18/100\n",
      "18/18 [==============================] - 0s 4ms/step - loss: 0.3083 - accuracy: 0.9396 - val_loss: 0.3284 - val_accuracy: 0.9197\n",
      "Epoch 19/100\n",
      "18/18 [==============================] - 0s 4ms/step - loss: 0.2919 - accuracy: 0.9414 - val_loss: 0.3137 - val_accuracy: 0.9197\n",
      "Epoch 20/100\n",
      "18/18 [==============================] - 0s 4ms/step - loss: 0.2769 - accuracy: 0.9414 - val_loss: 0.2982 - val_accuracy: 0.9197\n",
      "Epoch 21/100\n",
      "18/18 [==============================] - 0s 5ms/step - loss: 0.2634 - accuracy: 0.9487 - val_loss: 0.2853 - val_accuracy: 0.9197\n",
      "Epoch 22/100\n",
      "18/18 [==============================] - 0s 4ms/step - loss: 0.2514 - accuracy: 0.9505 - val_loss: 0.2727 - val_accuracy: 0.9197\n",
      "Epoch 23/100\n",
      "18/18 [==============================] - 0s 4ms/step - loss: 0.2400 - accuracy: 0.9505 - val_loss: 0.2605 - val_accuracy: 0.9416\n",
      "Epoch 24/100\n",
      "18/18 [==============================] - 0s 4ms/step - loss: 0.2300 - accuracy: 0.9505 - val_loss: 0.2497 - val_accuracy: 0.9416\n",
      "Epoch 25/100\n",
      "18/18 [==============================] - 0s 4ms/step - loss: 0.2211 - accuracy: 0.9487 - val_loss: 0.2405 - val_accuracy: 0.9416\n",
      "Epoch 26/100\n",
      "18/18 [==============================] - 0s 4ms/step - loss: 0.2123 - accuracy: 0.9505 - val_loss: 0.2316 - val_accuracy: 0.9343\n",
      "Epoch 27/100\n",
      "18/18 [==============================] - 0s 4ms/step - loss: 0.2046 - accuracy: 0.9524 - val_loss: 0.2226 - val_accuracy: 0.9270\n",
      "Epoch 28/100\n",
      "18/18 [==============================] - 0s 4ms/step - loss: 0.1979 - accuracy: 0.9524 - val_loss: 0.2149 - val_accuracy: 0.9270\n",
      "Epoch 29/100\n",
      "18/18 [==============================] - 0s 4ms/step - loss: 0.1914 - accuracy: 0.9542 - val_loss: 0.2086 - val_accuracy: 0.9270\n",
      "Epoch 30/100\n",
      "18/18 [==============================] - 0s 4ms/step - loss: 0.1857 - accuracy: 0.9524 - val_loss: 0.2019 - val_accuracy: 0.9343\n",
      "Epoch 31/100\n",
      "18/18 [==============================] - 0s 4ms/step - loss: 0.1804 - accuracy: 0.9542 - val_loss: 0.1952 - val_accuracy: 0.9416\n",
      "Epoch 32/100\n",
      "18/18 [==============================] - 0s 4ms/step - loss: 0.1752 - accuracy: 0.9560 - val_loss: 0.1903 - val_accuracy: 0.9489\n",
      "Epoch 33/100\n",
      "18/18 [==============================] - 0s 4ms/step - loss: 0.1708 - accuracy: 0.9579 - val_loss: 0.1850 - val_accuracy: 0.9562\n",
      "Epoch 34/100\n",
      "18/18 [==============================] - 0s 4ms/step - loss: 0.1670 - accuracy: 0.9560 - val_loss: 0.1816 - val_accuracy: 0.9562\n",
      "Epoch 35/100\n",
      "18/18 [==============================] - 0s 4ms/step - loss: 0.1633 - accuracy: 0.9597 - val_loss: 0.1763 - val_accuracy: 0.9562\n",
      "Epoch 36/100\n",
      "18/18 [==============================] - 0s 4ms/step - loss: 0.1589 - accuracy: 0.9579 - val_loss: 0.1719 - val_accuracy: 0.9562\n",
      "Epoch 37/100\n",
      "18/18 [==============================] - 0s 4ms/step - loss: 0.1558 - accuracy: 0.9579 - val_loss: 0.1678 - val_accuracy: 0.9562\n",
      "Epoch 38/100\n",
      "18/18 [==============================] - 0s 4ms/step - loss: 0.1529 - accuracy: 0.9634 - val_loss: 0.1644 - val_accuracy: 0.9635\n",
      "Epoch 39/100\n",
      "18/18 [==============================] - 0s 4ms/step - loss: 0.1494 - accuracy: 0.9652 - val_loss: 0.1602 - val_accuracy: 0.9562\n",
      "Epoch 40/100\n",
      "18/18 [==============================] - 0s 4ms/step - loss: 0.1468 - accuracy: 0.9652 - val_loss: 0.1572 - val_accuracy: 0.9635\n",
      "Epoch 41/100\n",
      "18/18 [==============================] - 0s 4ms/step - loss: 0.1432 - accuracy: 0.9652 - val_loss: 0.1531 - val_accuracy: 0.9635\n",
      "Epoch 42/100\n",
      "18/18 [==============================] - 0s 4ms/step - loss: 0.1407 - accuracy: 0.9652 - val_loss: 0.1499 - val_accuracy: 0.9635\n",
      "Epoch 43/100\n",
      "18/18 [==============================] - 0s 4ms/step - loss: 0.1380 - accuracy: 0.9670 - val_loss: 0.1481 - val_accuracy: 0.9635\n",
      "Epoch 44/100\n",
      "18/18 [==============================] - 0s 4ms/step - loss: 0.1358 - accuracy: 0.9670 - val_loss: 0.1449 - val_accuracy: 0.9635\n",
      "Epoch 45/100\n",
      "18/18 [==============================] - 0s 4ms/step - loss: 0.1332 - accuracy: 0.9689 - val_loss: 0.1425 - val_accuracy: 0.9635\n",
      "Epoch 46/100\n",
      "18/18 [==============================] - 0s 4ms/step - loss: 0.1306 - accuracy: 0.9670 - val_loss: 0.1375 - val_accuracy: 0.9635\n",
      "Epoch 47/100\n",
      "18/18 [==============================] - 0s 4ms/step - loss: 0.1286 - accuracy: 0.9689 - val_loss: 0.1360 - val_accuracy: 0.9635\n",
      "Epoch 48/100\n",
      "18/18 [==============================] - 0s 4ms/step - loss: 0.1264 - accuracy: 0.9689 - val_loss: 0.1333 - val_accuracy: 0.9635\n",
      "Epoch 49/100\n",
      "18/18 [==============================] - 0s 4ms/step - loss: 0.1242 - accuracy: 0.9670 - val_loss: 0.1303 - val_accuracy: 0.9635\n",
      "Epoch 50/100\n",
      "18/18 [==============================] - 0s 4ms/step - loss: 0.1225 - accuracy: 0.9670 - val_loss: 0.1305 - val_accuracy: 0.9635\n",
      "Epoch 51/100\n",
      "18/18 [==============================] - 0s 4ms/step - loss: 0.1204 - accuracy: 0.9670 - val_loss: 0.1274 - val_accuracy: 0.9635\n",
      "Epoch 52/100\n",
      "18/18 [==============================] - 0s 4ms/step - loss: 0.1186 - accuracy: 0.9689 - val_loss: 0.1263 - val_accuracy: 0.9635\n",
      "Epoch 53/100\n",
      "18/18 [==============================] - 0s 4ms/step - loss: 0.1176 - accuracy: 0.9670 - val_loss: 0.1248 - val_accuracy: 0.9635\n",
      "Epoch 54/100\n",
      "18/18 [==============================] - 0s 4ms/step - loss: 0.1158 - accuracy: 0.9689 - val_loss: 0.1247 - val_accuracy: 0.9635\n",
      "Epoch 55/100\n",
      "18/18 [==============================] - 0s 4ms/step - loss: 0.1138 - accuracy: 0.9689 - val_loss: 0.1206 - val_accuracy: 0.9635\n",
      "Epoch 56/100\n",
      "18/18 [==============================] - 0s 4ms/step - loss: 0.1134 - accuracy: 0.9689 - val_loss: 0.1195 - val_accuracy: 0.9635\n",
      "Epoch 57/100\n",
      "18/18 [==============================] - 0s 4ms/step - loss: 0.1111 - accuracy: 0.9689 - val_loss: 0.1205 - val_accuracy: 0.9635\n",
      "Epoch 58/100\n",
      "18/18 [==============================] - 0s 4ms/step - loss: 0.1098 - accuracy: 0.9689 - val_loss: 0.1189 - val_accuracy: 0.9635\n",
      "Epoch 59/100\n",
      "18/18 [==============================] - 0s 4ms/step - loss: 0.1090 - accuracy: 0.9689 - val_loss: 0.1183 - val_accuracy: 0.9635\n",
      "Epoch 60/100\n",
      "18/18 [==============================] - 0s 4ms/step - loss: 0.1099 - accuracy: 0.9725 - val_loss: 0.1267 - val_accuracy: 0.9708\n",
      "Epoch 61/100\n",
      "18/18 [==============================] - 0s 4ms/step - loss: 0.1087 - accuracy: 0.9725 - val_loss: 0.1179 - val_accuracy: 0.9708\n",
      "Epoch 62/100\n",
      "18/18 [==============================] - 0s 4ms/step - loss: 0.1055 - accuracy: 0.9689 - val_loss: 0.1141 - val_accuracy: 0.9635\n",
      "Epoch 63/100\n",
      "18/18 [==============================] - 0s 4ms/step - loss: 0.1042 - accuracy: 0.9707 - val_loss: 0.1156 - val_accuracy: 0.9708\n",
      "Epoch 64/100\n",
      "18/18 [==============================] - 0s 4ms/step - loss: 0.1032 - accuracy: 0.9707 - val_loss: 0.1141 - val_accuracy: 0.9708\n",
      "Epoch 65/100\n",
      "18/18 [==============================] - 0s 4ms/step - loss: 0.1024 - accuracy: 0.9707 - val_loss: 0.1126 - val_accuracy: 0.9635\n",
      "Epoch 66/100\n",
      "18/18 [==============================] - 0s 4ms/step - loss: 0.1011 - accuracy: 0.9689 - val_loss: 0.1109 - val_accuracy: 0.9635\n",
      "Epoch 67/100\n",
      "18/18 [==============================] - 0s 4ms/step - loss: 0.1004 - accuracy: 0.9707 - val_loss: 0.1119 - val_accuracy: 0.9708\n",
      "Epoch 68/100\n",
      "18/18 [==============================] - 0s 4ms/step - loss: 0.0989 - accuracy: 0.9707 - val_loss: 0.1090 - val_accuracy: 0.9708\n",
      "Epoch 69/100\n",
      "18/18 [==============================] - 0s 4ms/step - loss: 0.0977 - accuracy: 0.9689 - val_loss: 0.1081 - val_accuracy: 0.9635\n",
      "Epoch 70/100\n",
      "18/18 [==============================] - 0s 4ms/step - loss: 0.0970 - accuracy: 0.9707 - val_loss: 0.1079 - val_accuracy: 0.9708\n",
      "Epoch 71/100\n",
      "18/18 [==============================] - 0s 4ms/step - loss: 0.0964 - accuracy: 0.9707 - val_loss: 0.1082 - val_accuracy: 0.9708\n",
      "Epoch 72/100\n",
      "18/18 [==============================] - 0s 4ms/step - loss: 0.0952 - accuracy: 0.9725 - val_loss: 0.1078 - val_accuracy: 0.9708\n",
      "Epoch 73/100\n",
      "18/18 [==============================] - 0s 4ms/step - loss: 0.0946 - accuracy: 0.9744 - val_loss: 0.1076 - val_accuracy: 0.9708\n",
      "Epoch 74/100\n",
      "18/18 [==============================] - 0s 4ms/step - loss: 0.0935 - accuracy: 0.9725 - val_loss: 0.1062 - val_accuracy: 0.9708\n",
      "Epoch 75/100\n",
      "18/18 [==============================] - 0s 4ms/step - loss: 0.0929 - accuracy: 0.9725 - val_loss: 0.1048 - val_accuracy: 0.9708\n",
      "Epoch 76/100\n",
      "18/18 [==============================] - 0s 4ms/step - loss: 0.0923 - accuracy: 0.9744 - val_loss: 0.1049 - val_accuracy: 0.9708\n",
      "Epoch 77/100\n",
      "18/18 [==============================] - 0s 4ms/step - loss: 0.0911 - accuracy: 0.9725 - val_loss: 0.1039 - val_accuracy: 0.9708\n",
      "Epoch 78/100\n",
      "18/18 [==============================] - 0s 4ms/step - loss: 0.0907 - accuracy: 0.9707 - val_loss: 0.1039 - val_accuracy: 0.9708\n",
      "Epoch 79/100\n",
      "18/18 [==============================] - 0s 4ms/step - loss: 0.0898 - accuracy: 0.9725 - val_loss: 0.1019 - val_accuracy: 0.9635\n",
      "Epoch 80/100\n",
      "18/18 [==============================] - 0s 4ms/step - loss: 0.0894 - accuracy: 0.9707 - val_loss: 0.1020 - val_accuracy: 0.9708\n",
      "Epoch 81/100\n",
      "18/18 [==============================] - 0s 4ms/step - loss: 0.0884 - accuracy: 0.9762 - val_loss: 0.1033 - val_accuracy: 0.9708\n",
      "Epoch 82/100\n",
      "18/18 [==============================] - 0s 4ms/step - loss: 0.0875 - accuracy: 0.9762 - val_loss: 0.1026 - val_accuracy: 0.9708\n",
      "Epoch 83/100\n",
      "18/18 [==============================] - 0s 4ms/step - loss: 0.0872 - accuracy: 0.9725 - val_loss: 0.1015 - val_accuracy: 0.9708\n",
      "Epoch 84/100\n",
      "18/18 [==============================] - 0s 4ms/step - loss: 0.0863 - accuracy: 0.9762 - val_loss: 0.1020 - val_accuracy: 0.9708\n",
      "Epoch 85/100\n",
      "18/18 [==============================] - 0s 4ms/step - loss: 0.0876 - accuracy: 0.9725 - val_loss: 0.1070 - val_accuracy: 0.9708\n",
      "Epoch 86/100\n",
      "18/18 [==============================] - 0s 4ms/step - loss: 0.0871 - accuracy: 0.9744 - val_loss: 0.1010 - val_accuracy: 0.9708\n",
      "Epoch 87/100\n",
      "18/18 [==============================] - 0s 4ms/step - loss: 0.0846 - accuracy: 0.9762 - val_loss: 0.1006 - val_accuracy: 0.9708\n",
      "Epoch 88/100\n",
      "18/18 [==============================] - 0s 4ms/step - loss: 0.0849 - accuracy: 0.9725 - val_loss: 0.0990 - val_accuracy: 0.9708\n",
      "Epoch 89/100\n",
      "18/18 [==============================] - 0s 4ms/step - loss: 0.0847 - accuracy: 0.9725 - val_loss: 0.0999 - val_accuracy: 0.9635\n",
      "Epoch 90/100\n",
      "18/18 [==============================] - 0s 4ms/step - loss: 0.0833 - accuracy: 0.9780 - val_loss: 0.1016 - val_accuracy: 0.9708\n",
      "Epoch 91/100\n",
      "18/18 [==============================] - 0s 4ms/step - loss: 0.0822 - accuracy: 0.9744 - val_loss: 0.1002 - val_accuracy: 0.9708\n",
      "Epoch 92/100\n",
      "18/18 [==============================] - 0s 4ms/step - loss: 0.0813 - accuracy: 0.9762 - val_loss: 0.0997 - val_accuracy: 0.9708\n",
      "Epoch 93/100\n",
      "18/18 [==============================] - 0s 4ms/step - loss: 0.0815 - accuracy: 0.9744 - val_loss: 0.0986 - val_accuracy: 0.9708\n",
      "Epoch 94/100\n",
      "18/18 [==============================] - 0s 4ms/step - loss: 0.0805 - accuracy: 0.9762 - val_loss: 0.0984 - val_accuracy: 0.9708\n",
      "Epoch 95/100\n",
      "18/18 [==============================] - 0s 4ms/step - loss: 0.0798 - accuracy: 0.9762 - val_loss: 0.0989 - val_accuracy: 0.9708\n",
      "Epoch 96/100\n",
      "18/18 [==============================] - 0s 4ms/step - loss: 0.0801 - accuracy: 0.9762 - val_loss: 0.0992 - val_accuracy: 0.9708\n",
      "Epoch 97/100\n",
      "18/18 [==============================] - 0s 4ms/step - loss: 0.0787 - accuracy: 0.9780 - val_loss: 0.0972 - val_accuracy: 0.9708\n",
      "Epoch 98/100\n",
      "18/18 [==============================] - 0s 4ms/step - loss: 0.0783 - accuracy: 0.9780 - val_loss: 0.0968 - val_accuracy: 0.9708\n",
      "Epoch 99/100\n",
      "18/18 [==============================] - 0s 4ms/step - loss: 0.0781 - accuracy: 0.9762 - val_loss: 0.0961 - val_accuracy: 0.9708\n",
      "Epoch 100/100\n",
      "18/18 [==============================] - 0s 4ms/step - loss: 0.0782 - accuracy: 0.9780 - val_loss: 0.0973 - val_accuracy: 0.9708\n"
     ]
    },
    {
     "data": {
      "text/plain": [
       "<keras.callbacks.History at 0x20dafdcef50>"
      ]
     },
     "execution_count": 11,
     "metadata": {},
     "output_type": "execute_result"
    }
   ],
   "source": [
    "import tensorflow as tf\n",
    "from tensorflow import keras\n",
    "from keras import layers\n",
    "from sklearn.model_selection import train_test_split, cross_val_score\n",
    "from tensorflow.keras.wrappers.scikit_learn import KerasClassifier\n",
    "import datetime\n",
    "\n",
    "X_train, X_test, y_train, y_test = train_test_split(X, y, test_size=0.2)\n",
    "\n",
    "\n",
    "# Define the neural network architecture\n",
    "model = keras.Sequential([\n",
    "    layers.InputLayer(input_shape=(9,)),  # Input layer\n",
    "    layers.Dense(20, activation='sigmoid'),\n",
    "    layers.Dense(15, activation='sigmoid'),\n",
    "    layers.Dense(1, activation='sigmoid')           # Output layer for binary classification\n",
    "])\n",
    "\n",
    "# Compile the model\n",
    "model.compile(optimizer='adam',\n",
    "              loss='binary_crossentropy',\n",
    "              metrics=['accuracy'])\n",
    "\n",
    "log_dir = \"logs/fit/\" + datetime.datetime.now().strftime(\"%Y%m%d-%H%M%S\")\n",
    "tensorboard_callback = tf.keras.callbacks.TensorBoard(log_dir=log_dir, histogram_freq=1)\n",
    "\n",
    "model.fit(x=X_train, \n",
    "          y=y_train, \n",
    "          epochs=100, \n",
    "          validation_data=(X_test, y_test), \n",
    "          callbacks=[tensorboard_callback])"
   ]
  },
  {
   "cell_type": "code",
   "execution_count": 5,
   "metadata": {},
   "outputs": [
    {
     "data": {
      "text/html": [
       "\n",
       "      <iframe id=\"tensorboard-frame-aa142f8e07153860\" width=\"100%\" height=\"800\" frameborder=\"0\">\n",
       "      </iframe>\n",
       "      <script>\n",
       "        (function() {\n",
       "          const frame = document.getElementById(\"tensorboard-frame-aa142f8e07153860\");\n",
       "          const url = new URL(\"/\", window.location);\n",
       "          const port = 6007;\n",
       "          if (port) {\n",
       "            url.port = port;\n",
       "          }\n",
       "          frame.src = url;\n",
       "        })();\n",
       "      </script>\n",
       "    "
      ],
      "text/plain": [
       "<IPython.core.display.HTML object>"
      ]
     },
     "metadata": {},
     "output_type": "display_data"
    }
   ],
   "source": [
    "%tensorboard --logdir=logs/ --port=6007\n"
   ]
  }
 ],
 "metadata": {
  "kernelspec": {
   "display_name": "MLiSTest",
   "language": "python",
   "name": "python3"
  },
  "language_info": {
   "codemirror_mode": {
    "name": "ipython",
    "version": 3
   },
   "file_extension": ".py",
   "mimetype": "text/x-python",
   "name": "python",
   "nbconvert_exporter": "python",
   "pygments_lexer": "ipython3",
   "version": "3.10.13"
  }
 },
 "nbformat": 4,
 "nbformat_minor": 2
}
